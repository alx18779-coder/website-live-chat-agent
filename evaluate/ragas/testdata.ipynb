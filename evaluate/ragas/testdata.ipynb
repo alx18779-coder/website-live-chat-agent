{
 "cells": [
  {
   "cell_type": "code",
   "execution_count": null,
   "id": "d9a6d23a",
   "metadata": {},
   "outputs": [],
   "source": [
    "from langchain_community.document_loaders import TextLoader\n",
    "from dotenv import load_dotenv\n",
    "\n",
    "load_dotenv(\"../../.env\")\n",
    "\n",
    "config = {\n",
    "    \"model\": \"gemini-2.0-flash\",  # or other model IDs\n",
    "    \"temperature\": 0.4,\n",
    "    \"max_tokens\": None,\n",
    "    \"top_p\": 0.8,\n",
    "}\n",
    "\n",
    "\n",
    "loader = TextLoader(\"./docs/introduction.md\")\n",
    "docs = loader.load()\n",
    "\n",
    "from ragas.llms import LangchainLLMWrapper\n",
    "from ragas.embeddings import LangchainEmbeddingsWrapper\n",
    "\n",
    "# Choose the appropriate import based on your API:\n",
    "from langchain_google_genai import ChatGoogleGenerativeAI\n",
    "generator_llm = LangchainLLMWrapper(ChatGoogleGenerativeAI(\n",
    "    model=config[\"model\"],\n",
    "    temperature=config[\"temperature\"],\n",
    "    max_tokens=config[\"max_tokens\"],\n",
    "    top_p=config[\"top_p\"],\n",
    "))\n",
    "\n",
    "\n",
    "from langchain_google_genai import GoogleGenerativeAIEmbeddings\n",
    "generator_embeddings = LangchainEmbeddingsWrapper(GoogleGenerativeAIEmbeddings(\n",
    "    model=\"models/embedding-001\",  # Google's text embedding model\n",
    "    task_type=\"retrieval_document\"  # Optional: specify the task type\n",
    "))\n",
    "\n",
    "from ragas.testset import TestsetGenerator\n",
    "generator = TestsetGenerator(llm = generator_llm,embedding_model = generator_embeddings)\n",
    "dataset = generator.generate_with_langchain_docs(docs,testset_size = 10)\n",
    "\n",
    "\n",
    "dataset.to_pandas()\n",
    "\n",
    "\n"
   ]
  },
  {
   "cell_type": "code",
   "execution_count": 11,
   "id": "5a00ad70",
   "metadata": {},
   "outputs": [
    {
     "name": "stderr",
     "output_type": "stream",
     "text": [
      "/tmp/ipykernel_2586796/1811094612.py:13: DeprecationWarning: LangchainLLMWrapper is deprecated and will be removed in a future version. Use the modern LLM providers instead: from ragas.llms.base import llm_factory; llm = llm_factory('gpt-4o-mini') or from ragas.llms.base import instructor_llm_factory; llm = instructor_llm_factory('openai', client=openai_client)\n",
      "  generator_llm = LangchainLLMWrapper(create_llm())\n",
      "/tmp/ipykernel_2586796/1811094612.py:14: DeprecationWarning: LangchainEmbeddingsWrapper is deprecated and will be removed in a future version. Use the modern embedding providers instead: embedding_factory('openai', model='text-embedding-3-small', client=openai_client) or from ragas.embeddings import OpenAIEmbeddings, GoogleEmbeddings, HuggingFaceEmbeddings\n",
      "  generator_embeddings = LangchainEmbeddingsWrapper(create_embeddings())\n",
      "Applying HeadlinesExtractor: 100%|██████████| 1/1 [00:06<00:00,  6.52s/it]\n",
      "Applying HeadlineSplitter: 100%|██████████| 1/1 [00:00<00:00, 215.58it/s]\n",
      "Applying SummaryExtractor: 100%|██████████| 1/1 [00:06<00:00,  6.08s/it]\n",
      "Applying CustomNodeFilter: 100%|██████████| 9/9 [00:19<00:00,  2.18s/it]\n",
      "Applying EmbeddingExtractor: 100%|██████████| 1/1 [00:01<00:00,  1.70s/it]\n",
      "Applying ThemesExtractor: 100%|██████████| 9/9 [00:21<00:00,  2.36s/it]\n",
      "Applying NERExtractor: 100%|██████████| 9/9 [00:20<00:00,  2.33s/it]\n",
      "Applying CosineSimilarityBuilder: 100%|██████████| 1/1 [00:00<00:00, 2563.76it/s]\n",
      "Applying OverlapScoreBuilder: 100%|██████████| 1/1 [00:00<00:00, 1347.35it/s]\n",
      "Skipping multi_hop_abstract_query_synthesizer due to unexpected error: No relationships match the provided condition. Cannot form clusters.\n",
      "Generating personas: 100%|██████████| 1/1 [00:04<00:00,  4.10s/it]\n",
      "Generating Scenarios: 100%|██████████| 2/2 [00:31<00:00, 15.74s/it]\n",
      "Generating Samples: 100%|██████████| 60/60 [03:45<00:00,  3.76s/it]\n"
     ]
    }
   ],
   "source": [
    "from langchain_community.document_loaders import TextLoader\n",
    "from src.services.llm_factory import create_llm\n",
    "from src.services.llm_factory import create_embeddings\n",
    "\n",
    "\n",
    "\n",
    "\n",
    "loader = TextLoader(\"./docs/introduction.md\")\n",
    "docs = loader.load()\n",
    "\n",
    "from ragas.llms import LangchainLLMWrapper\n",
    "from ragas.embeddings import LangchainEmbeddingsWrapper\n",
    "generator_llm = LangchainLLMWrapper(create_llm())\n",
    "generator_embeddings = LangchainEmbeddingsWrapper(create_embeddings())\n",
    "\n",
    "from ragas.testset import TestsetGenerator\n",
    "generator = TestsetGenerator(llm = generator_llm,embedding_model = generator_embeddings)\n",
    "dataset = generator.generate_with_langchain_docs(docs,testset_size = 100)\n",
    "\n",
    "dataset.to_pandas().to_csv(\"testdata.csv\",index=False)"
   ]
  }
 ],
 "metadata": {
  "kernelspec": {
   "display_name": ".venv",
   "language": "python",
   "name": "python3"
  },
  "language_info": {
   "codemirror_mode": {
    "name": "ipython",
    "version": 3
   },
   "file_extension": ".py",
   "mimetype": "text/x-python",
   "name": "python",
   "nbconvert_exporter": "python",
   "pygments_lexer": "ipython3",
   "version": "3.13.3"
  }
 },
 "nbformat": 4,
 "nbformat_minor": 5
}
